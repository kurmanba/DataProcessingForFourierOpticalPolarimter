{
 "cells": [
  {
   "cell_type": "markdown",
   "metadata": {},
   "source": [
    "# Symbolic analysis of Mueller formalism\n",
    "\n",
    "Numeric understanding behind polarization setup is presented as symbolic computation. \n",
    "Procedure was done to see if there is an obvious dependencies between elements that \n",
    "can be exploited for computation."
   ]
  },
  {
   "cell_type": "markdown",
   "metadata": {},
   "source": [
    "## 1. Passive Ideal Elements  (Mueller matrices)"
   ]
  },
  {
   "cell_type": "code",
   "execution_count": 1,
   "metadata": {},
   "outputs": [],
   "source": [
    "# Passive Elements: \n",
    "\n",
    "M_0  = matrix(SR, 4, [1,1,0,0,1,1,0,0,0,0,0,0,0,0,0,0])   # Linear Polarizer Horizontal \n",
    "M_90 = matrix(SR, 4, [1,-1,0,0,-1,1,0,0,0,0,0,0,0,0,0,0]) # Linear Polarizer Vertical\n",
    "\n",
    "S_in = vector(SR,[1, 0, 0, 0])                            # Un-polorized input light\n",
    "\n",
    "# show(M_0); show(M_90); show(S_in)"
   ]
  },
  {
   "cell_type": "code",
   "execution_count": 2,
   "metadata": {},
   "outputs": [
    {
     "data": {
      "text/html": [
       "<html><script type=\"math/tex; mode=display\">\\newcommand{\\Bold}[1]{\\mathbf{#1}}\\left(\\begin{array}{rrrr}\n",
       "1 & 0 & 0 & 0 \\\\\n",
       "0 & \\cos\\left(\\delta_{1}\\right) \\sin\\left(2 \\, \\theta_{1}\\right)^{2} + \\cos\\left(2 \\, \\theta_{1}\\right)^{2} & -{\\left(\\cos\\left(\\delta_{1}\\right) - 1\\right)} \\cos\\left(2 \\, \\theta_{1}\\right) \\sin\\left(2 \\, \\theta_{1}\\right) & \\sin\\left(\\delta_{1}\\right) \\sin\\left(2 \\, \\theta_{1}\\right) \\\\\n",
       "0 & -{\\left(\\cos\\left(\\delta_{1}\\right) - 1\\right)} \\cos\\left(2 \\, \\theta_{1}\\right) \\sin\\left(2 \\, \\theta_{1}\\right) & \\cos\\left(\\delta_{1}\\right) \\cos\\left(2 \\, \\theta_{1}\\right)^{2} + \\sin\\left(2 \\, \\theta_{1}\\right)^{2} & -\\cos\\left(2 \\, \\theta_{1}\\right) \\sin\\left(\\delta_{1}\\right) \\\\\n",
       "0 & -\\sin\\left(\\delta_{1}\\right) \\sin\\left(2 \\, \\theta_{1}\\right) & \\cos\\left(2 \\, \\theta_{1}\\right) \\sin\\left(\\delta_{1}\\right) & \\cos\\left(\\delta_{1}\\right)\n",
       "\\end{array}\\right)</script></html>"
      ],
      "text/plain": [
       "[                                             1                                              0                                              0                                              0]\n",
       "[                                             0  cos(delta1)*sin(2*theta1)^2 + cos(2*theta1)^2 -(cos(delta1) - 1)*cos(2*theta1)*sin(2*theta1)                      sin(delta1)*sin(2*theta1)]\n",
       "[                                             0 -(cos(delta1) - 1)*cos(2*theta1)*sin(2*theta1)  cos(delta1)*cos(2*theta1)^2 + sin(2*theta1)^2                     -cos(2*theta1)*sin(delta1)]\n",
       "[                                             0                     -sin(delta1)*sin(2*theta1)                      cos(2*theta1)*sin(delta1)                                    cos(delta1)]"
      ]
     },
     "metadata": {},
     "output_type": "display_data"
    }
   ],
   "source": [
    "# General Expression for wave-plate (rotation angle and retardance included) Generator\n",
    "\n",
    "var('theta1, delta1')\n",
    "\n",
    "f11 = cos(2*theta1)^2 + sin(2*theta1)^2 * cos(delta1)\n",
    "f12 = cos(2*theta1) * sin(2*theta1) * (1-cos(delta1))\n",
    "f13 = sin(2*theta1) * sin(delta1)\n",
    "\n",
    "f21 = cos(2*theta1) * sin(2*theta1) * (1 - cos(delta1))\n",
    "f22 = sin(2*theta1)^2 + cos(2*theta1)^2 * cos(delta1)\n",
    "f23 = -cos(2*theta1) * sin(delta1)\n",
    "\n",
    "f31 = -sin(2*theta1) * sin(delta1)\n",
    "f32 = cos(2*theta1) * sin(delta1)\n",
    "f33 = cos(delta1)\n",
    "\n",
    "W_1 = matrix(SR,[[1,0,0,0],\n",
    "              [0,f11,f12,f13],\n",
    "              [0,f21,f22,f23],\n",
    "              [0,f31,f32,f33]])\n",
    "show(W_1)"
   ]
  },
  {
   "cell_type": "code",
   "execution_count": 3,
   "metadata": {},
   "outputs": [
    {
     "data": {
      "text/html": [
       "<html><script type=\"math/tex; mode=display\">\\newcommand{\\Bold}[1]{\\mathbf{#1}}\\left(\\begin{array}{rrrr}\n",
       "1 & 0 & 0 & 0 \\\\\n",
       "0 & \\cos\\left(\\delta_{2}\\right) \\sin\\left(2 \\, \\theta_{2}\\right)^{2} + \\cos\\left(2 \\, \\theta_{2}\\right)^{2} & -{\\left(\\cos\\left(\\delta_{2}\\right) - 1\\right)} \\cos\\left(2 \\, \\theta_{2}\\right) \\sin\\left(2 \\, \\theta_{2}\\right) & \\sin\\left(\\delta_{2}\\right) \\sin\\left(2 \\, \\theta_{2}\\right) \\\\\n",
       "0 & -{\\left(\\cos\\left(\\delta_{2}\\right) - 1\\right)} \\cos\\left(2 \\, \\theta_{2}\\right) \\sin\\left(2 \\, \\theta_{2}\\right) & \\cos\\left(\\delta_{2}\\right) \\cos\\left(2 \\, \\theta_{2}\\right)^{2} + \\sin\\left(2 \\, \\theta_{2}\\right)^{2} & -\\cos\\left(2 \\, \\theta_{2}\\right) \\sin\\left(\\delta_{2}\\right) \\\\\n",
       "0 & -\\sin\\left(\\delta_{2}\\right) \\sin\\left(2 \\, \\theta_{2}\\right) & \\cos\\left(2 \\, \\theta_{2}\\right) \\sin\\left(\\delta_{2}\\right) & \\cos\\left(\\delta_{2}\\right)\n",
       "\\end{array}\\right)</script></html>"
      ],
      "text/plain": [
       "[                                             1                                              0                                              0                                              0]\n",
       "[                                             0  cos(delta2)*sin(2*theta2)^2 + cos(2*theta2)^2 -(cos(delta2) - 1)*cos(2*theta2)*sin(2*theta2)                      sin(delta2)*sin(2*theta2)]\n",
       "[                                             0 -(cos(delta2) - 1)*cos(2*theta2)*sin(2*theta2)  cos(delta2)*cos(2*theta2)^2 + sin(2*theta2)^2                     -cos(2*theta2)*sin(delta2)]\n",
       "[                                             0                     -sin(delta2)*sin(2*theta2)                      cos(2*theta2)*sin(delta2)                                    cos(delta2)]"
      ]
     },
     "metadata": {},
     "output_type": "display_data"
    }
   ],
   "source": [
    "# General Expression for wave-plate (rotation angle and retardance included) Analyser\n",
    "\n",
    "var('theta2, delta2')\n",
    "\n",
    "f11 = cos(2*theta2)^2 + sin(2*theta2)^2 * cos(delta2)\n",
    "f12 = cos(2*theta2) * sin(2*theta2) * (1-cos(delta2))\n",
    "f13 = sin(2*theta2) * sin(delta2)\n",
    "\n",
    "f21 = cos(2*theta2) * sin(2*theta2) * (1 - cos(delta2))\n",
    "f22 = sin(2*theta2)^2 + cos(2*theta2)^2 * cos(delta2)\n",
    "f23 = -cos(2*theta2) * sin(delta2)\n",
    "\n",
    "f31 = -sin(2*theta2) * sin(delta2)\n",
    "f32 = cos(2*theta2) * sin(delta2)\n",
    "f33 = cos(delta2)\n",
    "\n",
    "W_2 = matrix(SR,[[1,0,0,0],\n",
    "              [0,f11,f12,f13],\n",
    "              [0,f21,f22,f23],\n",
    "              [0,f31,f32,f33]])\n",
    "show(W_2)"
   ]
  },
  {
   "cell_type": "code",
   "execution_count": 4,
   "metadata": {},
   "outputs": [
    {
     "data": {
      "text/html": [
       "<html><script type=\"math/tex; mode=display\">\\newcommand{\\Bold}[1]{\\mathbf{#1}}\\left(1,\\,\\cos\\left(\\delta_{1}\\right) \\sin\\left(2 \\, \\theta_{1}\\right)^{2} + \\cos\\left(2 \\, \\theta_{1}\\right)^{2},\\,-{\\left(\\cos\\left(\\delta_{1}\\right) - 1\\right)} \\cos\\left(2 \\, \\theta_{1}\\right) \\sin\\left(2 \\, \\theta_{1}\\right),\\,-\\sin\\left(\\delta_{1}\\right) \\sin\\left(2 \\, \\theta_{1}\\right)\\right)</script></html>"
      ],
      "text/plain": [
       "(1, cos(delta1)*sin(2*theta1)^2 + cos(2*theta1)^2, -(cos(delta1) - 1)*cos(2*theta1)*sin(2*theta1), -sin(delta1)*sin(2*theta1))"
      ]
     },
     "metadata": {},
     "output_type": "display_data"
    },
    {
     "data": {
      "text/html": [
       "<html><script type=\"math/tex; mode=display\">\\newcommand{\\Bold}[1]{\\mathbf{#1}}\\left(1,\\,\\cos\\left(2 \\, \\theta_{1}\\right)^{2},\\,\\cos\\left(2 \\, \\theta_{1}\\right) \\sin\\left(2 \\, \\theta_{1}\\right),\\,-\\sin\\left(2 \\, \\theta_{1}\\right)\\right)</script></html>"
      ],
      "text/plain": [
       "(1, cos(2*theta1)^2, cos(2*theta1)*sin(2*theta1), -sin(2*theta1))"
      ]
     },
     "metadata": {},
     "output_type": "display_data"
    }
   ],
   "source": [
    "# Generator Vector\n",
    "\n",
    "S_g = W_1 * M_0 * S_in\n",
    "\n",
    "show(S_g)\n",
    "\n",
    "show(S_g({delta1:pi/2}).simplify())\n",
    "\n",
    "# latex(S_g)"
   ]
  },
  {
   "cell_type": "code",
   "execution_count": 5,
   "metadata": {},
   "outputs": [
    {
     "data": {
      "text/html": [
       "<html><script type=\"math/tex; mode=display\">\\newcommand{\\Bold}[1]{\\mathbf{#1}}\\left(1,\\,-\\cos\\left(\\delta_{2}\\right) \\sin\\left(2 \\, \\theta_{2}\\right)^{2} - \\cos\\left(2 \\, \\theta_{2}\\right)^{2},\\,{\\left(\\cos\\left(\\delta_{2}\\right) - 1\\right)} \\cos\\left(2 \\, \\theta_{2}\\right) \\sin\\left(2 \\, \\theta_{2}\\right),\\,-\\sin\\left(\\delta_{2}\\right) \\sin\\left(2 \\, \\theta_{2}\\right)\\right)</script></html>"
      ],
      "text/plain": [
       "(1, -cos(delta2)*sin(2*theta2)^2 - cos(2*theta2)^2, (cos(delta2) - 1)*cos(2*theta2)*sin(2*theta2), -sin(delta2)*sin(2*theta2))"
      ]
     },
     "metadata": {},
     "output_type": "display_data"
    },
    {
     "data": {
      "text/html": [
       "<html><script type=\"math/tex; mode=display\">\\newcommand{\\Bold}[1]{\\mathbf{#1}}\\left(1,\\,-\\cos\\left(2 \\, \\theta_{2}\\right)^{2},\\,-\\cos\\left(2 \\, \\theta_{2}\\right) \\sin\\left(2 \\, \\theta_{2}\\right),\\,-\\sin\\left(2 \\, \\theta_{2}\\right)\\right)</script></html>"
      ],
      "text/plain": [
       "(1, -cos(2*theta2)^2, -cos(2*theta2)*sin(2*theta2), -sin(2*theta2))"
      ]
     },
     "metadata": {},
     "output_type": "display_data"
    }
   ],
   "source": [
    "# Analyser Vector\n",
    "\n",
    "S_a = S_in * M_90 * W_2\n",
    "\n",
    "show(S_a)\n",
    "\n",
    "show(S_a({delta2:pi/2}).simplify())\n"
   ]
  },
  {
   "cell_type": "markdown",
   "metadata": {},
   "source": [
    "## 2. Transfer Matrix \n",
    "\n",
    "This section is dedicated for the analysis of the transfer matrix."
   ]
  },
  {
   "cell_type": "code",
   "execution_count": 8,
   "metadata": {},
   "outputs": [
    {
     "data": {
      "text/html": [
       "<html><script type=\"math/tex; mode=display\">\\newcommand{\\Bold}[1]{\\mathbf{#1}}\\left(\\begin{array}{r}\n",
       "1 \\\\\n",
       "-2 \\, {\\left(2 \\, \\cos\\left(\\delta_{2}\\right) - 1\\right)} \\cos\\left(\\theta_{2}\\right)^{2} \\sin\\left(\\theta_{2}\\right)^{2} - \\cos\\left(\\theta_{2}\\right)^{4} - \\sin\\left(\\theta_{2}\\right)^{4} \\\\\n",
       "2 \\, {\\left(\\cos\\left(\\delta_{2}\\right) - 1\\right)} \\cos\\left(\\theta_{2}\\right)^{3} \\sin\\left(\\theta_{2}\\right) - 2 \\, {\\left(\\cos\\left(\\delta_{2}\\right) - 1\\right)} \\cos\\left(\\theta_{2}\\right) \\sin\\left(\\theta_{2}\\right)^{3} \\\\\n",
       "-2 \\, \\cos\\left(\\theta_{2}\\right) \\sin\\left(\\delta_{2}\\right) \\sin\\left(\\theta_{2}\\right) \\\\\n",
       "-4 \\, {\\left(\\cos\\left(\\delta_{1}\\right) - 1\\right)} \\sin\\left(\\theta_{1}\\right)^{4} + 4 \\, {\\left(\\cos\\left(\\delta_{1}\\right) - 1\\right)} \\sin\\left(\\theta_{1}\\right)^{2} + 1 \\\\\n",
       "{\\left(4 \\, {\\left(\\cos\\left(\\delta_{1}\\right) - 1\\right)} \\sin\\left(\\theta_{1}\\right)^{4} - 4 \\, {\\left(\\cos\\left(\\delta_{1}\\right) - 1\\right)} \\sin\\left(\\theta_{1}\\right)^{2} - 1\\right)} \\cos\\left(\\theta_{2}\\right)^{4} + 2 \\, {\\left(4 \\, {\\left(2 \\, {\\left(\\cos\\left(\\delta_{1}\\right) - 1\\right)} \\cos\\left(\\delta_{2}\\right) - \\cos\\left(\\delta_{1}\\right) + 1\\right)} \\sin\\left(\\theta_{1}\\right)^{4} - 4 \\, {\\left(2 \\, {\\left(\\cos\\left(\\delta_{1}\\right) - 1\\right)} \\cos\\left(\\delta_{2}\\right) - \\cos\\left(\\delta_{1}\\right) + 1\\right)} \\sin\\left(\\theta_{1}\\right)^{2} - 2 \\, \\cos\\left(\\delta_{2}\\right) + 1\\right)} \\cos\\left(\\theta_{2}\\right)^{2} \\sin\\left(\\theta_{2}\\right)^{2} + {\\left(4 \\, {\\left(\\cos\\left(\\delta_{1}\\right) - 1\\right)} \\sin\\left(\\theta_{1}\\right)^{4} - 4 \\, {\\left(\\cos\\left(\\delta_{1}\\right) - 1\\right)} \\sin\\left(\\theta_{1}\\right)^{2} - 1\\right)} \\sin\\left(\\theta_{2}\\right)^{4} \\\\\n",
       "-2 \\, {\\left(4 \\, {\\left({\\left(\\cos\\left(\\delta_{1}\\right) - 1\\right)} \\cos\\left(\\delta_{2}\\right) - \\cos\\left(\\delta_{1}\\right) + 1\\right)} \\sin\\left(\\theta_{1}\\right)^{4} - 4 \\, {\\left({\\left(\\cos\\left(\\delta_{1}\\right) - 1\\right)} \\cos\\left(\\delta_{2}\\right) - \\cos\\left(\\delta_{1}\\right) + 1\\right)} \\sin\\left(\\theta_{1}\\right)^{2} - \\cos\\left(\\delta_{2}\\right) + 1\\right)} \\cos\\left(\\theta_{2}\\right)^{3} \\sin\\left(\\theta_{2}\\right) + 2 \\, {\\left(4 \\, {\\left({\\left(\\cos\\left(\\delta_{1}\\right) - 1\\right)} \\cos\\left(\\delta_{2}\\right) - \\cos\\left(\\delta_{1}\\right) + 1\\right)} \\sin\\left(\\theta_{1}\\right)^{4} - 4 \\, {\\left({\\left(\\cos\\left(\\delta_{1}\\right) - 1\\right)} \\cos\\left(\\delta_{2}\\right) - \\cos\\left(\\delta_{1}\\right) + 1\\right)} \\sin\\left(\\theta_{1}\\right)^{2} - \\cos\\left(\\delta_{2}\\right) + 1\\right)} \\cos\\left(\\theta_{2}\\right) \\sin\\left(\\theta_{2}\\right)^{3} \\\\\n",
       "2 \\, {\\left(4 \\, {\\left(\\cos\\left(\\delta_{1}\\right) - 1\\right)} \\sin\\left(\\delta_{2}\\right) \\sin\\left(\\theta_{1}\\right)^{4} - 4 \\, {\\left(\\cos\\left(\\delta_{1}\\right) - 1\\right)} \\sin\\left(\\delta_{2}\\right) \\sin\\left(\\theta_{1}\\right)^{2} - \\sin\\left(\\delta_{2}\\right)\\right)} \\cos\\left(\\theta_{2}\\right) \\sin\\left(\\theta_{2}\\right) \\\\\n",
       "4 \\, {\\left(\\cos\\left(\\delta_{1}\\right) - 1\\right)} \\cos\\left(\\theta_{1}\\right) \\sin\\left(\\theta_{1}\\right)^{3} - 2 \\, {\\left(\\cos\\left(\\delta_{1}\\right) - 1\\right)} \\cos\\left(\\theta_{1}\\right) \\sin\\left(\\theta_{1}\\right) \\\\\n",
       "-2 \\, {\\left(2 \\, {\\left(\\cos\\left(\\delta_{1}\\right) - 1\\right)} \\cos\\left(\\theta_{1}\\right) \\sin\\left(\\theta_{1}\\right)^{3} - {\\left(\\cos\\left(\\delta_{1}\\right) - 1\\right)} \\cos\\left(\\theta_{1}\\right) \\sin\\left(\\theta_{1}\\right)\\right)} \\cos\\left(\\theta_{2}\\right)^{4} - 4 \\, {\\left(2 \\, {\\left(2 \\, {\\left(\\cos\\left(\\delta_{1}\\right) - 1\\right)} \\cos\\left(\\delta_{2}\\right) - \\cos\\left(\\delta_{1}\\right) + 1\\right)} \\cos\\left(\\theta_{1}\\right) \\sin\\left(\\theta_{1}\\right)^{3} - {\\left(2 \\, {\\left(\\cos\\left(\\delta_{1}\\right) - 1\\right)} \\cos\\left(\\delta_{2}\\right) - \\cos\\left(\\delta_{1}\\right) + 1\\right)} \\cos\\left(\\theta_{1}\\right) \\sin\\left(\\theta_{1}\\right)\\right)} \\cos\\left(\\theta_{2}\\right)^{2} \\sin\\left(\\theta_{2}\\right)^{2} - 2 \\, {\\left(2 \\, {\\left(\\cos\\left(\\delta_{1}\\right) - 1\\right)} \\cos\\left(\\theta_{1}\\right) \\sin\\left(\\theta_{1}\\right)^{3} - {\\left(\\cos\\left(\\delta_{1}\\right) - 1\\right)} \\cos\\left(\\theta_{1}\\right) \\sin\\left(\\theta_{1}\\right)\\right)} \\sin\\left(\\theta_{2}\\right)^{4} \\\\\n",
       "4 \\, {\\left(2 \\, {\\left({\\left(\\cos\\left(\\delta_{1}\\right) - 1\\right)} \\cos\\left(\\delta_{2}\\right) - \\cos\\left(\\delta_{1}\\right) + 1\\right)} \\cos\\left(\\theta_{1}\\right) \\sin\\left(\\theta_{1}\\right)^{3} - {\\left({\\left(\\cos\\left(\\delta_{1}\\right) - 1\\right)} \\cos\\left(\\delta_{2}\\right) - \\cos\\left(\\delta_{1}\\right) + 1\\right)} \\cos\\left(\\theta_{1}\\right) \\sin\\left(\\theta_{1}\\right)\\right)} \\cos\\left(\\theta_{2}\\right)^{3} \\sin\\left(\\theta_{2}\\right) - 4 \\, {\\left(2 \\, {\\left({\\left(\\cos\\left(\\delta_{1}\\right) - 1\\right)} \\cos\\left(\\delta_{2}\\right) - \\cos\\left(\\delta_{1}\\right) + 1\\right)} \\cos\\left(\\theta_{1}\\right) \\sin\\left(\\theta_{1}\\right)^{3} - {\\left({\\left(\\cos\\left(\\delta_{1}\\right) - 1\\right)} \\cos\\left(\\delta_{2}\\right) - \\cos\\left(\\delta_{1}\\right) + 1\\right)} \\cos\\left(\\theta_{1}\\right) \\sin\\left(\\theta_{1}\\right)\\right)} \\cos\\left(\\theta_{2}\\right) \\sin\\left(\\theta_{2}\\right)^{3} \\\\\n",
       "-4 \\, {\\left(2 \\, {\\left(\\cos\\left(\\delta_{1}\\right) - 1\\right)} \\cos\\left(\\theta_{1}\\right) \\sin\\left(\\delta_{2}\\right) \\sin\\left(\\theta_{1}\\right)^{3} - {\\left(\\cos\\left(\\delta_{1}\\right) - 1\\right)} \\cos\\left(\\theta_{1}\\right) \\sin\\left(\\delta_{2}\\right) \\sin\\left(\\theta_{1}\\right)\\right)} \\cos\\left(\\theta_{2}\\right) \\sin\\left(\\theta_{2}\\right) \\\\\n",
       "-2 \\, \\cos\\left(\\theta_{1}\\right) \\sin\\left(\\delta_{1}\\right) \\sin\\left(\\theta_{1}\\right) \\\\\n",
       "2 \\, \\cos\\left(\\theta_{1}\\right) \\cos\\left(\\theta_{2}\\right)^{4} \\sin\\left(\\delta_{1}\\right) \\sin\\left(\\theta_{1}\\right) + 4 \\, {\\left(2 \\, \\cos\\left(\\delta_{2}\\right) \\sin\\left(\\delta_{1}\\right) - \\sin\\left(\\delta_{1}\\right)\\right)} \\cos\\left(\\theta_{1}\\right) \\cos\\left(\\theta_{2}\\right)^{2} \\sin\\left(\\theta_{1}\\right) \\sin\\left(\\theta_{2}\\right)^{2} + 2 \\, \\cos\\left(\\theta_{1}\\right) \\sin\\left(\\delta_{1}\\right) \\sin\\left(\\theta_{1}\\right) \\sin\\left(\\theta_{2}\\right)^{4} \\\\\n",
       "-4 \\, {\\left(\\cos\\left(\\delta_{2}\\right) \\sin\\left(\\delta_{1}\\right) - \\sin\\left(\\delta_{1}\\right)\\right)} \\cos\\left(\\theta_{1}\\right) \\cos\\left(\\theta_{2}\\right)^{3} \\sin\\left(\\theta_{1}\\right) \\sin\\left(\\theta_{2}\\right) + 4 \\, {\\left(\\cos\\left(\\delta_{2}\\right) \\sin\\left(\\delta_{1}\\right) - \\sin\\left(\\delta_{1}\\right)\\right)} \\cos\\left(\\theta_{1}\\right) \\cos\\left(\\theta_{2}\\right) \\sin\\left(\\theta_{1}\\right) \\sin\\left(\\theta_{2}\\right)^{3} \\\\\n",
       "4 \\, \\cos\\left(\\theta_{1}\\right) \\cos\\left(\\theta_{2}\\right) \\sin\\left(\\delta_{1}\\right) \\sin\\left(\\delta_{2}\\right) \\sin\\left(\\theta_{1}\\right) \\sin\\left(\\theta_{2}\\right)\n",
       "\\end{array}\\right)</script></html>"
      ],
      "text/plain": [
       "[                                                                                                                                                                                                                                                                                                                                                                                                                         1]\n",
       "[                                                                                                                                                                                                                                                                                                                                        -2*(2*cos(delta2) - 1)*cos(theta2)^2*sin(theta2)^2 - cos(theta2)^4 - sin(theta2)^4]\n",
       "[                                                                                                                                                                                                                                                                                                                             2*(cos(delta2) - 1)*cos(theta2)^3*sin(theta2) - 2*(cos(delta2) - 1)*cos(theta2)*sin(theta2)^3]\n",
       "[                                                                                                                                                                                                                                                                                                                                                                                    -2*cos(theta2)*sin(delta2)*sin(theta2)]\n",
       "[                                                                                                                                                                                                                                                                                                                                                -4*(cos(delta1) - 1)*sin(theta1)^4 + 4*(cos(delta1) - 1)*sin(theta1)^2 + 1]\n",
       "[                                     (4*(cos(delta1) - 1)*sin(theta1)^4 - 4*(cos(delta1) - 1)*sin(theta1)^2 - 1)*cos(theta2)^4 + 2*(4*(2*(cos(delta1) - 1)*cos(delta2) - cos(delta1) + 1)*sin(theta1)^4 - 4*(2*(cos(delta1) - 1)*cos(delta2) - cos(delta1) + 1)*sin(theta1)^2 - 2*cos(delta2) + 1)*cos(theta2)^2*sin(theta2)^2 + (4*(cos(delta1) - 1)*sin(theta1)^4 - 4*(cos(delta1) - 1)*sin(theta1)^2 - 1)*sin(theta2)^4]\n",
       "[                                            -2*(4*((cos(delta1) - 1)*cos(delta2) - cos(delta1) + 1)*sin(theta1)^4 - 4*((cos(delta1) - 1)*cos(delta2) - cos(delta1) + 1)*sin(theta1)^2 - cos(delta2) + 1)*cos(theta2)^3*sin(theta2) + 2*(4*((cos(delta1) - 1)*cos(delta2) - cos(delta1) + 1)*sin(theta1)^4 - 4*((cos(delta1) - 1)*cos(delta2) - cos(delta1) + 1)*sin(theta1)^2 - cos(delta2) + 1)*cos(theta2)*sin(theta2)^3]\n",
       "[                                                                                                                                                                                                                                                                                   2*(4*(cos(delta1) - 1)*sin(delta2)*sin(theta1)^4 - 4*(cos(delta1) - 1)*sin(delta2)*sin(theta1)^2 - sin(delta2))*cos(theta2)*sin(theta2)]\n",
       "[                                                                                                                                                                                                                                                                                                                               4*(cos(delta1) - 1)*cos(theta1)*sin(theta1)^3 - 2*(cos(delta1) - 1)*cos(theta1)*sin(theta1)]\n",
       "[-2*(2*(cos(delta1) - 1)*cos(theta1)*sin(theta1)^3 - (cos(delta1) - 1)*cos(theta1)*sin(theta1))*cos(theta2)^4 - 4*(2*(2*(cos(delta1) - 1)*cos(delta2) - cos(delta1) + 1)*cos(theta1)*sin(theta1)^3 - (2*(cos(delta1) - 1)*cos(delta2) - cos(delta1) + 1)*cos(theta1)*sin(theta1))*cos(theta2)^2*sin(theta2)^2 - 2*(2*(cos(delta1) - 1)*cos(theta1)*sin(theta1)^3 - (cos(delta1) - 1)*cos(theta1)*sin(theta1))*sin(theta2)^4]\n",
       "[                                         4*(2*((cos(delta1) - 1)*cos(delta2) - cos(delta1) + 1)*cos(theta1)*sin(theta1)^3 - ((cos(delta1) - 1)*cos(delta2) - cos(delta1) + 1)*cos(theta1)*sin(theta1))*cos(theta2)^3*sin(theta2) - 4*(2*((cos(delta1) - 1)*cos(delta2) - cos(delta1) + 1)*cos(theta1)*sin(theta1)^3 - ((cos(delta1) - 1)*cos(delta2) - cos(delta1) + 1)*cos(theta1)*sin(theta1))*cos(theta2)*sin(theta2)^3]\n",
       "[                                                                                                                                                                                                                                                                            -4*(2*(cos(delta1) - 1)*cos(theta1)*sin(delta2)*sin(theta1)^3 - (cos(delta1) - 1)*cos(theta1)*sin(delta2)*sin(theta1))*cos(theta2)*sin(theta2)]\n",
       "[                                                                                                                                                                                                                                                                                                                                                                                    -2*cos(theta1)*sin(delta1)*sin(theta1)]\n",
       "[                                                                                                                                                                                                               2*cos(theta1)*cos(theta2)^4*sin(delta1)*sin(theta1) + 4*(2*cos(delta2)*sin(delta1) - sin(delta1))*cos(theta1)*cos(theta2)^2*sin(theta1)*sin(theta2)^2 + 2*cos(theta1)*sin(delta1)*sin(theta1)*sin(theta2)^4]\n",
       "[                                                                                                                                                                                                                                -4*(cos(delta2)*sin(delta1) - sin(delta1))*cos(theta1)*cos(theta2)^3*sin(theta1)*sin(theta2) + 4*(cos(delta2)*sin(delta1) - sin(delta1))*cos(theta1)*cos(theta2)*sin(theta1)*sin(theta2)^3]\n",
       "[                                                                                                                                                                                                                                                                                                                                                 4*cos(theta1)*cos(theta2)*sin(delta1)*sin(delta2)*sin(theta1)*sin(theta2)]"
      ]
     },
     "metadata": {},
     "output_type": "display_data"
    }
   ],
   "source": [
    "# Transfer Matrix \n",
    "\n",
    "PPM = S_g.tensor_product(S_a)\n",
    "\n",
    "W = PPM.simplify_trig()\n",
    "\n",
    "Q = matrix(SR,[W[0][0], W[0][1], W[0][2], W[0][3],            # couldn't find reshape and therefore did it manually\n",
    "               W[1][0], W[1][1], W[1][2], W[1][3],\n",
    "               W[2][0], W[2][1], W[2][2], W[2][3],\n",
    "               W[3][0], W[3][1], W[3][2], W[3][3]])\n",
    "\n",
    "show(Q.transpose())\n",
    "# latex(Q)"
   ]
  },
  {
   "cell_type": "code",
   "execution_count": 7,
   "metadata": {},
   "outputs": [
    {
     "data": {
      "text/html": [
       "<html><script type=\"math/tex; mode=display\">\\newcommand{\\Bold}[1]{\\mathbf{#1}}\\left(\\begin{array}{r}\n",
       "1 \\\\\n",
       "-4 \\, \\cos\\left(\\theta_{2}\\right)^{4} + 4 \\, \\cos\\left(\\theta_{2}\\right)^{2} - 1 \\\\\n",
       "-2 \\, {\\left(2 \\, \\cos\\left(\\theta_{2}\\right)^{3} - \\cos\\left(\\theta_{2}\\right)\\right)} \\sin\\left(\\theta_{2}\\right) \\\\\n",
       "-2 \\, \\cos\\left(\\theta_{2}\\right) \\sin\\left(\\theta_{2}\\right) \\\\\n",
       "4 \\, \\sin\\left(\\theta_{1}\\right)^{4} - 4 \\, \\sin\\left(\\theta_{1}\\right)^{2} + 1 \\\\\n",
       "-4 \\, {\\left(4 \\, \\sin\\left(\\theta_{1}\\right)^{4} - 4 \\, \\sin\\left(\\theta_{1}\\right)^{2} + 1\\right)} \\cos\\left(\\theta_{2}\\right)^{4} - 4 \\, \\sin\\left(\\theta_{1}\\right)^{4} + 4 \\, {\\left(4 \\, \\sin\\left(\\theta_{1}\\right)^{4} - 4 \\, \\sin\\left(\\theta_{1}\\right)^{2} + 1\\right)} \\cos\\left(\\theta_{2}\\right)^{2} + 4 \\, \\sin\\left(\\theta_{1}\\right)^{2} - 1 \\\\\n",
       "-2 \\, {\\left(2 \\, {\\left(4 \\, \\sin\\left(\\theta_{1}\\right)^{4} - 4 \\, \\sin\\left(\\theta_{1}\\right)^{2} + 1\\right)} \\cos\\left(\\theta_{2}\\right)^{3} - {\\left(4 \\, \\sin\\left(\\theta_{1}\\right)^{4} - 4 \\, \\sin\\left(\\theta_{1}\\right)^{2} + 1\\right)} \\cos\\left(\\theta_{2}\\right)\\right)} \\sin\\left(\\theta_{2}\\right) \\\\\n",
       "-2 \\, {\\left(4 \\, \\sin\\left(\\theta_{1}\\right)^{4} - 4 \\, \\sin\\left(\\theta_{1}\\right)^{2} + 1\\right)} \\cos\\left(\\theta_{2}\\right) \\sin\\left(\\theta_{2}\\right) \\\\\n",
       "2 \\, {\\left(2 \\, \\cos\\left(\\theta_{1}\\right)^{3} - \\cos\\left(\\theta_{1}\\right)\\right)} \\sin\\left(\\theta_{1}\\right) \\\\\n",
       "-8 \\, {\\left(2 \\, \\cos\\left(\\theta_{1}\\right)^{3} - \\cos\\left(\\theta_{1}\\right)\\right)} \\sin\\left(\\theta_{1}\\right) \\sin\\left(\\theta_{2}\\right)^{4} + 8 \\, {\\left(2 \\, \\cos\\left(\\theta_{1}\\right)^{3} - \\cos\\left(\\theta_{1}\\right)\\right)} \\sin\\left(\\theta_{1}\\right) \\sin\\left(\\theta_{2}\\right)^{2} - 2 \\, {\\left(2 \\, \\cos\\left(\\theta_{1}\\right)^{3} - \\cos\\left(\\theta_{1}\\right)\\right)} \\sin\\left(\\theta_{1}\\right) \\\\\n",
       "-4 \\, {\\left(2 \\, {\\left(2 \\, \\cos\\left(\\theta_{1}\\right)^{3} - \\cos\\left(\\theta_{1}\\right)\\right)} \\cos\\left(\\theta_{2}\\right)^{3} \\sin\\left(\\theta_{1}\\right) - {\\left(2 \\, \\cos\\left(\\theta_{1}\\right)^{3} - \\cos\\left(\\theta_{1}\\right)\\right)} \\cos\\left(\\theta_{2}\\right) \\sin\\left(\\theta_{1}\\right)\\right)} \\sin\\left(\\theta_{2}\\right) \\\\\n",
       "-4 \\, {\\left(2 \\, \\cos\\left(\\theta_{1}\\right)^{3} - \\cos\\left(\\theta_{1}\\right)\\right)} \\cos\\left(\\theta_{2}\\right) \\sin\\left(\\theta_{1}\\right) \\sin\\left(\\theta_{2}\\right) \\\\\n",
       "-2 \\, \\cos\\left(\\theta_{1}\\right) \\sin\\left(\\theta_{1}\\right) \\\\\n",
       "8 \\, \\cos\\left(\\theta_{1}\\right) \\sin\\left(\\theta_{1}\\right) \\sin\\left(\\theta_{2}\\right)^{4} - 8 \\, \\cos\\left(\\theta_{1}\\right) \\sin\\left(\\theta_{1}\\right) \\sin\\left(\\theta_{2}\\right)^{2} + 2 \\, \\cos\\left(\\theta_{1}\\right) \\sin\\left(\\theta_{1}\\right) \\\\\n",
       "4 \\, {\\left(2 \\, \\cos\\left(\\theta_{1}\\right) \\cos\\left(\\theta_{2}\\right)^{3} \\sin\\left(\\theta_{1}\\right) - \\cos\\left(\\theta_{1}\\right) \\cos\\left(\\theta_{2}\\right) \\sin\\left(\\theta_{1}\\right)\\right)} \\sin\\left(\\theta_{2}\\right) \\\\\n",
       "4 \\, \\cos\\left(\\theta_{1}\\right) \\cos\\left(\\theta_{2}\\right) \\sin\\left(\\theta_{1}\\right) \\sin\\left(\\theta_{2}\\right)\n",
       "\\end{array}\\right)</script></html>"
      ],
      "text/plain": [
       "[                                                                                                                                                                         1]\n",
       "[                                                                                                                                    -4*cos(theta2)^4 + 4*cos(theta2)^2 - 1]\n",
       "[                                                                                                                            -2*(2*cos(theta2)^3 - cos(theta2))*sin(theta2)]\n",
       "[                                                                                                                                                -2*cos(theta2)*sin(theta2)]\n",
       "[                                                                                                                                     4*sin(theta1)^4 - 4*sin(theta1)^2 + 1]\n",
       "[                -4*(4*sin(theta1)^4 - 4*sin(theta1)^2 + 1)*cos(theta2)^4 - 4*sin(theta1)^4 + 4*(4*sin(theta1)^4 - 4*sin(theta1)^2 + 1)*cos(theta2)^2 + 4*sin(theta1)^2 - 1]\n",
       "[                                            -2*(2*(4*sin(theta1)^4 - 4*sin(theta1)^2 + 1)*cos(theta2)^3 - (4*sin(theta1)^4 - 4*sin(theta1)^2 + 1)*cos(theta2))*sin(theta2)]\n",
       "[                                                                                                        -2*(4*sin(theta1)^4 - 4*sin(theta1)^2 + 1)*cos(theta2)*sin(theta2)]\n",
       "[                                                                                                                             2*(2*cos(theta1)^3 - cos(theta1))*sin(theta1)]\n",
       "[-8*(2*cos(theta1)^3 - cos(theta1))*sin(theta1)*sin(theta2)^4 + 8*(2*cos(theta1)^3 - cos(theta1))*sin(theta1)*sin(theta2)^2 - 2*(2*cos(theta1)^3 - cos(theta1))*sin(theta1)]\n",
       "[                                    -4*(2*(2*cos(theta1)^3 - cos(theta1))*cos(theta2)^3*sin(theta1) - (2*cos(theta1)^3 - cos(theta1))*cos(theta2)*sin(theta1))*sin(theta2)]\n",
       "[                                                                                                    -4*(2*cos(theta1)^3 - cos(theta1))*cos(theta2)*sin(theta1)*sin(theta2)]\n",
       "[                                                                                                                                                -2*cos(theta1)*sin(theta1)]\n",
       "[                                                             8*cos(theta1)*sin(theta1)*sin(theta2)^4 - 8*cos(theta1)*sin(theta1)*sin(theta2)^2 + 2*cos(theta1)*sin(theta1)]\n",
       "[                                                                             4*(2*cos(theta1)*cos(theta2)^3*sin(theta1) - cos(theta1)*cos(theta2)*sin(theta1))*sin(theta2)]\n",
       "[                                                                                                                         4*cos(theta1)*cos(theta2)*sin(theta1)*sin(theta2)]"
      ]
     },
     "metadata": {},
     "output_type": "display_data"
    }
   ],
   "source": [
    "Qt = (Q.subs({delta1:pi/2, delta2:pi/2}).simplify_full())                                # Quarter wave PSA/PSG PPM\n",
    "\n",
    "show(Qt.transpose())"
   ]
  },
  {
   "cell_type": "code",
   "execution_count": null,
   "metadata": {},
   "outputs": [],
   "source": []
  },
  {
   "cell_type": "code",
   "execution_count": null,
   "metadata": {},
   "outputs": [],
   "source": []
  }
 ],
 "metadata": {
  "kernelspec": {
   "display_name": "SageMath 9.0",
   "language": "sage",
   "name": "sagemath"
  },
  "language_info": {
   "codemirror_mode": {
    "name": "ipython",
    "version": 3
   },
   "file_extension": ".py",
   "mimetype": "text/x-python",
   "name": "python",
   "nbconvert_exporter": "python",
   "pygments_lexer": "ipython3",
   "version": "3.8.10"
  }
 },
 "nbformat": 4,
 "nbformat_minor": 4
}
